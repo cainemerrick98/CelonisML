{
 "cells": [
  {
   "cell_type": "code",
   "execution_count": 1,
   "metadata": {},
   "outputs": [
    {
     "name": "stderr",
     "output_type": "stream",
     "text": [
      "c:\\Users\\caine\\OneDrive\\Documents\\CelonisML\\venv\\Lib\\site-packages\\tqdm\\auto.py:21: TqdmWarning: IProgress not found. Please update jupyter and ipywidgets. See https://ipywidgets.readthedocs.io/en/stable/user_install.html\n",
      "  from .autonotebook import tqdm as notebook_tqdm\n"
     ]
    }
   ],
   "source": [
    "from dotenv import load_dotenv\n",
    "import os\n",
    "import sys\n",
    "from pycelonis import get_celonis"
   ]
  },
  {
   "cell_type": "code",
   "execution_count": 2,
   "metadata": {},
   "outputs": [],
   "source": [
    "sys.path.append(os.path.abspath('..'))"
   ]
  },
  {
   "cell_type": "markdown",
   "metadata": {},
   "source": [
    "## 1. Connect To Celonis\n",
    "\n",
    "The first step is to connect to your celonis instance. Replace the credentials below with your own. If you are having trouble connecting to Celonis see: https://celonis.github.io/pycelonis/2.12.0/tutorials/executed/01_quickstart/02_celonis_basics/"
   ]
  },
  {
   "cell_type": "code",
   "execution_count": 3,
   "metadata": {},
   "outputs": [],
   "source": [
    "#Load credentials\n",
    "load_dotenv()\n",
    "\n",
    "KEY = os.getenv('KEY')\n",
    "BASE_URL = os.getenv('BASE_URL')\n",
    "KEY_TYPE = os.getenv('KEY_TYPE')\n"
   ]
  },
  {
   "cell_type": "code",
   "execution_count": 4,
   "metadata": {},
   "outputs": [],
   "source": [
    "celonis = get_celonis(base_url=BASE_URL, api_token=KEY, key_type=KEY_TYPE)"
   ]
  },
  {
   "cell_type": "markdown",
   "metadata": {},
   "source": [
    "## 2. Access the Relevant Data Model\n",
    "\n",
    "Next use the authenticated celonis object to retrieve the data model that contains the data that will be used to build the model"
   ]
  },
  {
   "cell_type": "code",
   "execution_count": 5,
   "metadata": {},
   "outputs": [
    {
     "data": {
      "text/plain": [
       "[\n",
       "\tDataPool(id='9844f304-d81f-42ba-8839-6949ee45bd21', name='control-tower-kpi-logs-f3d5c328-bd7f-4244-b4cd-525fd82bd5e5'),\n",
       "\tDataPool(id='93d7b41b-1fa7-4f43-90fb-270c185dedd9', name='Get Data into Celonis - P2P'),\n",
       "\tDataPool(id='b4a070bb-bae9-4139-a41e-b596312dab4c', name='Get Data into Celonis - P2P (1)'),\n",
       "\tDataPool(id='b8a705e4-8140-4ed1-9137-95ed14885542', name='Caines Datapool'),\n",
       "\tDataPool(id='a226e76d-3d6d-46ca-834c-56e9b82a6255', name='OCPM Data Pool'),\n",
       "\tDataPool(id='93fa4117-5d41-4c68-a548-ee6d25f66830', name='Task Mining Data Pool - Caines Task Mining'),\n",
       "\tDataPool(id='12906c9d-0bff-4778-88ae-2f7d49d2c67b', name='AP Data Pool'),\n",
       "\tDataPool(id='dc5abaf7-281d-4acd-8f83-98a141253198', name='PyCelonis')\n",
       "]"
      ]
     },
     "execution_count": 5,
     "metadata": {},
     "output_type": "execute_result"
    }
   ],
   "source": [
    "data_pools = celonis.data_integration.get_data_pools()\n",
    "data_pools"
   ]
  },
  {
   "cell_type": "code",
   "execution_count": 6,
   "metadata": {},
   "outputs": [
    {
     "data": {
      "text/plain": [
       "DataPool(id='b4a070bb-bae9-4139-a41e-b596312dab4c', name='Get Data into Celonis - P2P (1)')"
      ]
     },
     "execution_count": 6,
     "metadata": {},
     "output_type": "execute_result"
    }
   ],
   "source": [
    "p2p_datapool = celonis.data_integration.get_data_pool(id_='b4a070bb-bae9-4139-a41e-b596312dab4c')\n",
    "p2p_datapool"
   ]
  },
  {
   "cell_type": "code",
   "execution_count": 7,
   "metadata": {},
   "outputs": [
    {
     "data": {
      "text/plain": [
       "[\n",
       "\tDataModel(id='3b0d16bf-d3ca-4b78-89ef-509716b0c1df', name='P2P Data Model', pool_id='b4a070bb-bae9-4139-a41e-b596312dab4c')\n",
       "]"
      ]
     },
     "execution_count": 7,
     "metadata": {},
     "output_type": "execute_result"
    }
   ],
   "source": [
    "p2p_datapool.get_data_models()"
   ]
  },
  {
   "cell_type": "code",
   "execution_count": 8,
   "metadata": {},
   "outputs": [
    {
     "data": {
      "text/plain": [
       "DataModel(id='3b0d16bf-d3ca-4b78-89ef-509716b0c1df', name='P2P Data Model', pool_id='b4a070bb-bae9-4139-a41e-b596312dab4c')"
      ]
     },
     "execution_count": 8,
     "metadata": {},
     "output_type": "execute_result"
    }
   ],
   "source": [
    "p2p_datamodel = p2p_datapool.get_data_models()[0]\n",
    "p2p_datamodel"
   ]
  },
  {
   "cell_type": "markdown",
   "metadata": {},
   "source": [
    "## 3. Import CelonisML and initialise your machine learning job\n",
    "\n",
    "You are now ready to import the `CelonisML` class to build your ML job. You also need to import the `PQLColumn` class from pycelonis. This class is used to add data from your data model\n"
   ]
  },
  {
   "cell_type": "code",
   "execution_count": 9,
   "metadata": {},
   "outputs": [],
   "source": [
    "from CelonisML.core import CelonisML\n",
    "from pycelonis.pql import PQLColumn"
   ]
  },
  {
   "cell_type": "code",
   "execution_count": 24,
   "metadata": {},
   "outputs": [],
   "source": [
    "ml_job = CelonisML(p2p_datamodel, None)"
   ]
  },
  {
   "cell_type": "markdown",
   "metadata": {},
   "source": [
    "## 4. Start building your model\n",
    "\n",
    "add predictors variable, a target variable (if supervised learning), set the ML model, extract your data"
   ]
  },
  {
   "cell_type": "code",
   "execution_count": 25,
   "metadata": {},
   "outputs": [],
   "source": [
    "#Add one column as a predictor\n",
    "ml_job.add_predictor(PQLColumn(name='Netpr', query='\"EKPO\".\"Netpr\"'))"
   ]
  },
  {
   "cell_type": "code",
   "execution_count": 26,
   "metadata": {},
   "outputs": [
    {
     "name": "stdout",
     "output_type": "stream",
     "text": [
      "[PQLColumn(name='Netpr', query='\"EKPO\".\"Netpr\"')]\n"
     ]
    }
   ],
   "source": [
    "print(ml_job.data_extractor.predictors)"
   ]
  },
  {
   "cell_type": "code",
   "execution_count": 27,
   "metadata": {},
   "outputs": [],
   "source": [
    "#Add multiple columns as predictor\n",
    "ml_job.add_predictor(PQLColumn(name='Menge', query='\"EKPO\".\"Menge\"'), PQLColumn(name='Netwr', query='\"EKPO\".\"Netwr\"'))"
   ]
  },
  {
   "cell_type": "code",
   "execution_count": 28,
   "metadata": {},
   "outputs": [
    {
     "name": "stdout",
     "output_type": "stream",
     "text": [
      "[PQLColumn(name='Netpr', query='\"EKPO\".\"Netpr\"'), PQLColumn(name='Menge', query='\"EKPO\".\"Menge\"'), PQLColumn(name='Netwr', query='\"EKPO\".\"Netwr\"')]\n"
     ]
    }
   ],
   "source": [
    "print(ml_job.data_extractor.predictors)"
   ]
  },
  {
   "cell_type": "code",
   "execution_count": 30,
   "metadata": {},
   "outputs": [],
   "source": [
    "# This loads the data from the celonis environment\n",
    "ml_job.load_data()"
   ]
  },
  {
   "cell_type": "code",
   "execution_count": 33,
   "metadata": {},
   "outputs": [
    {
     "data": {
      "text/html": [
       "<div>\n",
       "<style scoped>\n",
       "    .dataframe tbody tr th:only-of-type {\n",
       "        vertical-align: middle;\n",
       "    }\n",
       "\n",
       "    .dataframe tbody tr th {\n",
       "        vertical-align: top;\n",
       "    }\n",
       "\n",
       "    .dataframe thead th {\n",
       "        text-align: right;\n",
       "    }\n",
       "</style>\n",
       "<table border=\"1\" class=\"dataframe\">\n",
       "  <thead>\n",
       "    <tr style=\"text-align: right;\">\n",
       "      <th></th>\n",
       "      <th>Netpr</th>\n",
       "      <th>Menge</th>\n",
       "      <th>Netwr</th>\n",
       "    </tr>\n",
       "    <tr>\n",
       "      <th>Index</th>\n",
       "      <th></th>\n",
       "      <th></th>\n",
       "      <th></th>\n",
       "    </tr>\n",
       "  </thead>\n",
       "  <tbody>\n",
       "    <tr>\n",
       "      <th>0</th>\n",
       "      <td>3</td>\n",
       "      <td>334</td>\n",
       "      <td>10187</td>\n",
       "    </tr>\n",
       "    <tr>\n",
       "      <th>1</th>\n",
       "      <td>10</td>\n",
       "      <td>40</td>\n",
       "      <td>400</td>\n",
       "    </tr>\n",
       "    <tr>\n",
       "      <th>2</th>\n",
       "      <td>45</td>\n",
       "      <td>300</td>\n",
       "      <td>13500</td>\n",
       "    </tr>\n",
       "    <tr>\n",
       "      <th>3</th>\n",
       "      <td>0</td>\n",
       "      <td>1095</td>\n",
       "      <td>5803</td>\n",
       "    </tr>\n",
       "    <tr>\n",
       "      <th>4</th>\n",
       "      <td>0</td>\n",
       "      <td>1339</td>\n",
       "      <td>7096</td>\n",
       "    </tr>\n",
       "    <tr>\n",
       "      <th>...</th>\n",
       "      <td>...</td>\n",
       "      <td>...</td>\n",
       "      <td>...</td>\n",
       "    </tr>\n",
       "    <tr>\n",
       "      <th>27932</th>\n",
       "      <td>286</td>\n",
       "      <td>500</td>\n",
       "      <td>143150</td>\n",
       "    </tr>\n",
       "    <tr>\n",
       "      <th>27933</th>\n",
       "      <td>286</td>\n",
       "      <td>500</td>\n",
       "      <td>143150</td>\n",
       "    </tr>\n",
       "    <tr>\n",
       "      <th>27934</th>\n",
       "      <td>50</td>\n",
       "      <td>100</td>\n",
       "      <td>50</td>\n",
       "    </tr>\n",
       "    <tr>\n",
       "      <th>27935</th>\n",
       "      <td>50</td>\n",
       "      <td>100</td>\n",
       "      <td>50</td>\n",
       "    </tr>\n",
       "    <tr>\n",
       "      <th>27936</th>\n",
       "      <td>50</td>\n",
       "      <td>100</td>\n",
       "      <td>50</td>\n",
       "    </tr>\n",
       "  </tbody>\n",
       "</table>\n",
       "<p>27937 rows × 3 columns</p>\n",
       "</div>"
      ],
      "text/plain": [
       "       Netpr  Menge   Netwr\n",
       "Index                      \n",
       "0          3    334   10187\n",
       "1         10     40     400\n",
       "2         45    300   13500\n",
       "3          0   1095    5803\n",
       "4          0   1339    7096\n",
       "...      ...    ...     ...\n",
       "27932    286    500  143150\n",
       "27933    286    500  143150\n",
       "27934     50    100      50\n",
       "27935     50    100      50\n",
       "27936     50    100      50\n",
       "\n",
       "[27937 rows x 3 columns]"
      ]
     },
     "execution_count": 33,
     "metadata": {},
     "output_type": "execute_result"
    }
   ],
   "source": [
    "ml_job.data"
   ]
  },
  {
   "cell_type": "code",
   "execution_count": 34,
   "metadata": {},
   "outputs": [],
   "source": [
    "ml_job.add_target(PQLColumn(name='NetWrr', query='\"EKPO\".\"NetWr\"'))"
   ]
  },
  {
   "cell_type": "code",
   "execution_count": 35,
   "metadata": {},
   "outputs": [],
   "source": [
    "from sklearn.linear_model import LinearRegression"
   ]
  },
  {
   "cell_type": "code",
   "execution_count": 36,
   "metadata": {},
   "outputs": [],
   "source": [
    "ml_job.add_model(LinearRegression())"
   ]
  },
  {
   "cell_type": "code",
   "execution_count": null,
   "metadata": {},
   "outputs": [],
   "source": [
    "ml_job.train_model()"
   ]
  }
 ],
 "metadata": {
  "kernelspec": {
   "display_name": "venv",
   "language": "python",
   "name": "python3"
  },
  "language_info": {
   "codemirror_mode": {
    "name": "ipython",
    "version": 3
   },
   "file_extension": ".py",
   "mimetype": "text/x-python",
   "name": "python",
   "nbconvert_exporter": "python",
   "pygments_lexer": "ipython3",
   "version": "3.11.4"
  }
 },
 "nbformat": 4,
 "nbformat_minor": 2
}
