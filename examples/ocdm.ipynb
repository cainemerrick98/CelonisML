{
 "cells": [
  {
   "cell_type": "code",
   "execution_count": 2,
   "metadata": {},
   "outputs": [],
   "source": [
    "from dotenv import load_dotenv\n",
    "import os\n",
    "import sys\n",
    "from pycelonis import get_celonis\n",
    "sys.path.append(os.path.abspath('..'))"
   ]
  },
  {
   "cell_type": "code",
   "execution_count": 3,
   "metadata": {},
   "outputs": [],
   "source": [
    "#Load credentials\n",
    "load_dotenv()\n",
    "\n",
    "KEY = os.getenv('KEY')\n",
    "BASE_URL = os.getenv('BASE_URL')\n",
    "KEY_TYPE = os.getenv('KEY_TYPE')\n"
   ]
  },
  {
   "cell_type": "code",
   "execution_count": 4,
   "metadata": {},
   "outputs": [],
   "source": [
    "celonis = get_celonis(base_url=BASE_URL, api_token=KEY, key_type=KEY_TYPE)"
   ]
  },
  {
   "cell_type": "code",
   "execution_count": 5,
   "metadata": {},
   "outputs": [
    {
     "data": {
      "text/plain": [
       "[\n",
       "\tDataPool(id='9844f304-d81f-42ba-8839-6949ee45bd21', name='control-tower-kpi-logs-f3d5c328-bd7f-4244-b4cd-525fd82bd5e5'),\n",
       "\tDataPool(id='93d7b41b-1fa7-4f43-90fb-270c185dedd9', name='Get Data into Celonis - P2P'),\n",
       "\tDataPool(id='b4a070bb-bae9-4139-a41e-b596312dab4c', name='Get Data into Celonis - P2P (1)'),\n",
       "\tDataPool(id='b8a705e4-8140-4ed1-9137-95ed14885542', name='Caines Datapool'),\n",
       "\tDataPool(id='a226e76d-3d6d-46ca-834c-56e9b82a6255', name='OCPM Data Pool'),\n",
       "\tDataPool(id='93fa4117-5d41-4c68-a548-ee6d25f66830', name='Task Mining Data Pool - Caines Task Mining'),\n",
       "\tDataPool(id='12906c9d-0bff-4778-88ae-2f7d49d2c67b', name='AP Data Pool'),\n",
       "\tDataPool(id='dc5abaf7-281d-4acd-8f83-98a141253198', name='PyCelonis')\n",
       "]"
      ]
     },
     "execution_count": 5,
     "metadata": {},
     "output_type": "execute_result"
    }
   ],
   "source": [
    "data_pools = celonis.data_integration.get_data_pools()\n",
    "data_pools"
   ]
  },
  {
   "cell_type": "code",
   "execution_count": 6,
   "metadata": {},
   "outputs": [
    {
     "data": {
      "text/plain": [
       "[\n",
       "\tDataModel(id='0dffb34d-a395-4efc-942a-015f9a389c39', name='test:perspective_custom_ExpenseReport', pool_id='a226e76d-3d6d-46ca-834c-56e9b82a6255')\n",
       "]"
      ]
     },
     "execution_count": 6,
     "metadata": {},
     "output_type": "execute_result"
    }
   ],
   "source": [
    "ocpm_dp = celonis.data_integration.get_data_pool(id_='a226e76d-3d6d-46ca-834c-56e9b82a6255')\n",
    "ocpm_dp.get_data_models()\n"
   ]
  },
  {
   "cell_type": "code",
   "execution_count": 7,
   "metadata": {},
   "outputs": [],
   "source": [
    "ocpm_dm = ocpm_dp.get_data_models()[0]"
   ]
  },
  {
   "cell_type": "code",
   "execution_count": 8,
   "metadata": {},
   "outputs": [
    {
     "name": "stderr",
     "output_type": "stream",
     "text": [
      "c:\\Users\\caine\\OneDrive\\Documents\\CelonisML\\venv\\Lib\\site-packages\\pycelonis_core\\base\\base_model.py:107: UserWarning: Accessing tables as attribute only returns partial information. Use the get_tables function instead.\n",
      "  warnings.warn(\n"
     ]
    },
    {
     "data": {
      "text/plain": [
       "[DataModelTableTransport(id='e2eabb8c-7baa-4092-ad44-b943c1bc1865', data_model_id='0dffb34d-a395-4efc-942a-015f9a389c39', data_source_id=None, name='t_o_custom_Category', alias='o_custom_Category', columns=[DataModelColumnTransport(name='ID', type_='STRING', primary_key=True)], use_direct_storage=False, primary_keys=['ID'], alias_or_name='o_custom_Category'),\n",
       " DataModelTableTransport(id='9a20297f-af68-4689-92a4-0bf5a433465c', data_model_id='0dffb34d-a395-4efc-942a-015f9a389c39', data_source_id=None, name='t_o_custom_Report', alias='o_custom_Report', columns=[DataModelColumnTransport(name='ID', type_='STRING', primary_key=True)], use_direct_storage=False, primary_keys=['ID'], alias_or_name='o_custom_Report'),\n",
       " DataModelTableTransport(id='19824270-0262-440f-abaf-4499cf374b27', data_model_id='0dffb34d-a395-4efc-942a-015f9a389c39', data_source_id=None, name='t_o_custom_User', alias='o_custom_User', columns=[DataModelColumnTransport(name='ID', type_='STRING', primary_key=True)], use_direct_storage=False, primary_keys=['ID'], alias_or_name='o_custom_User'),\n",
       " DataModelTableTransport(id='a4858ee7-e4a8-4e52-b34c-2eb04a83db8f', data_model_id='0dffb34d-a395-4efc-942a-015f9a389c39', data_source_id=None, name='t_o_custom_Expense', alias='o_custom_Expense', columns=[DataModelColumnTransport(name='ID', type_='STRING', primary_key=True)], use_direct_storage=False, primary_keys=['ID'], alias_or_name='o_custom_Expense'),\n",
       " DataModelTableTransport(id='12be0fd1-2822-4557-a38d-28814938667c', data_model_id='0dffb34d-a395-4efc-942a-015f9a389c39', data_source_id=None, name='t_o_custom_User', alias='o_custom_Report__Creator', columns=[DataModelColumnTransport(name='ID', type_='STRING', primary_key=True)], use_direct_storage=False, primary_keys=['ID'], alias_or_name='o_custom_Report__Creator'),\n",
       " DataModelTableTransport(id='1fb9d259-a336-4b97-b438-b5f9edb8aced', data_model_id='0dffb34d-a395-4efc-942a-015f9a389c39', data_source_id=None, name='t_e_custom_ApproveReport', alias='e_custom_ApproveReport', columns=[DataModelColumnTransport(name='ID', type_='STRING', primary_key=True)], use_direct_storage=False, primary_keys=['ID'], alias_or_name='e_custom_ApproveReport'),\n",
       " DataModelTableTransport(id='2a20b8d4-8eae-4d47-b644-c27333ef281f', data_model_id='0dffb34d-a395-4efc-942a-015f9a389c39', data_source_id=None, name='t_r_e_custom_ApproveReport__Expense', alias='r_e_custom_ApproveReport__Expense', columns=[DataModelColumnTransport(name='ID', type_='STRING', primary_key=True), DataModelColumnTransport(name='Expense_ID', type_='STRING', primary_key=True)], use_direct_storage=False, primary_keys=['ID', 'Expense_ID'], alias_or_name='r_e_custom_ApproveReport__Expense'),\n",
       " DataModelTableTransport(id='9181ff8e-8a41-41ed-b965-85e1b7c295d8', data_model_id='0dffb34d-a395-4efc-942a-015f9a389c39', data_source_id=None, name='t_e_custom_ChangeAmount', alias='e_custom_ChangeAmount', columns=[DataModelColumnTransport(name='ID', type_='STRING', primary_key=True)], use_direct_storage=False, primary_keys=['ID'], alias_or_name='e_custom_ChangeAmount'),\n",
       " DataModelTableTransport(id='c4e0f572-8f7f-4330-a1f4-7db5dc8326ef', data_model_id='0dffb34d-a395-4efc-942a-015f9a389c39', data_source_id=None, name='t_e_custom_SendBackToCreatorForCorrection', alias='e_custom_SendBackToCreatorForCorrection', columns=[DataModelColumnTransport(name='ID', type_='STRING', primary_key=True)], use_direct_storage=False, primary_keys=['ID'], alias_or_name='e_custom_SendBackToCreatorForCorrection'),\n",
       " DataModelTableTransport(id='4d82cc7a-89b7-41ca-a235-d7e82f2afeb1', data_model_id='0dffb34d-a395-4efc-942a-015f9a389c39', data_source_id=None, name='t_r_e_custom_SendBackToCreatorForCorrection__Expense', alias='r_e_custom_SendBackToCreatorForCorrection__Expense', columns=[DataModelColumnTransport(name='ID', type_='STRING', primary_key=True), DataModelColumnTransport(name='Expense_ID', type_='STRING', primary_key=True)], use_direct_storage=False, primary_keys=['ID', 'Expense_ID'], alias_or_name='r_e_custom_SendBackToCreatorForCorrection__Expense'),\n",
       " DataModelTableTransport(id='8260a995-667c-4274-ab29-94aa05856b83', data_model_id='0dffb34d-a395-4efc-942a-015f9a389c39', data_source_id=None, name='t_e_custom_CreateReport', alias='e_custom_CreateReport', columns=[DataModelColumnTransport(name='ID', type_='STRING', primary_key=True)], use_direct_storage=False, primary_keys=['ID'], alias_or_name='e_custom_CreateReport'),\n",
       " DataModelTableTransport(id='c49e0325-2aed-402b-9614-ba9fbea73844', data_model_id='0dffb34d-a395-4efc-942a-015f9a389c39', data_source_id=None, name='t_r_e_custom_CreateReport__Expense', alias='r_e_custom_CreateReport__Expense', columns=[DataModelColumnTransport(name='ID', type_='STRING', primary_key=True), DataModelColumnTransport(name='Expense_ID', type_='STRING', primary_key=True)], use_direct_storage=False, primary_keys=['ID', 'Expense_ID'], alias_or_name='r_e_custom_CreateReport__Expense'),\n",
       " DataModelTableTransport(id='35fe13a9-758b-412a-a976-b2c75118453d', data_model_id='0dffb34d-a395-4efc-942a-015f9a389c39', data_source_id=None, name='t_e_custom_SendToApprover', alias='e_custom_SendToApprover', columns=[DataModelColumnTransport(name='ID', type_='STRING', primary_key=True)], use_direct_storage=False, primary_keys=['ID'], alias_or_name='e_custom_SendToApprover'),\n",
       " DataModelTableTransport(id='c06282eb-fa15-41d7-8831-665efd3e9757', data_model_id='0dffb34d-a395-4efc-942a-015f9a389c39', data_source_id=None, name='t_r_e_custom_SendToApprover__Expense', alias='r_e_custom_SendToApprover__Expense', columns=[DataModelColumnTransport(name='ID', type_='STRING', primary_key=True), DataModelColumnTransport(name='Expense_ID', type_='STRING', primary_key=True)], use_direct_storage=False, primary_keys=['ID', 'Expense_ID'], alias_or_name='r_e_custom_SendToApprover__Expense'),\n",
       " DataModelTableTransport(id='f7a8ea45-da56-4af1-ab94-e88ecc8feffc', data_model_id='0dffb34d-a395-4efc-942a-015f9a389c39', data_source_id=None, name='t_e_custom_RejectReport', alias='e_custom_RejectReport', columns=[DataModelColumnTransport(name='ID', type_='STRING', primary_key=True)], use_direct_storage=False, primary_keys=['ID'], alias_or_name='e_custom_RejectReport'),\n",
       " DataModelTableTransport(id='80557607-7fc1-478c-b352-e0d9d6ddfee4', data_model_id='0dffb34d-a395-4efc-942a-015f9a389c39', data_source_id=None, name='t_r_e_custom_RejectReport__Expense', alias='r_e_custom_RejectReport__Expense', columns=[DataModelColumnTransport(name='ID', type_='STRING', primary_key=True), DataModelColumnTransport(name='Expense_ID', type_='STRING', primary_key=True)], use_direct_storage=False, primary_keys=['ID', 'Expense_ID'], alias_or_name='r_e_custom_RejectReport__Expense')]"
      ]
     },
     "execution_count": 8,
     "metadata": {},
     "output_type": "execute_result"
    }
   ],
   "source": [
    "ocpm_dm.tables"
   ]
  },
  {
   "cell_type": "code",
   "execution_count": 13,
   "metadata": {},
   "outputs": [
    {
     "data": {
      "text/plain": [
       "[\n",
       "\tSpace(id='8dda2aeb-05d6-4d63-814b-1c2fea9e521d', name='A Space for Build Views'),\n",
       "\tSpace(id='fbc7a854-3f55-4029-956f-e87eb92d227c', name='AP Space'),\n",
       "\tSpace(id='84043e98-aa74-44f8-9096-6863744571b2', name='Books Chapters Authors'),\n",
       "\tSpace(id='7009639e-03e1-4a6b-8f51-71c95e9454da', name='Build Analyses (Training)'),\n",
       "\tSpace(id='56ae1208-62a4-4f63-8452-13adc46aac90', name='Caines Space'),\n",
       "\tSpace(id='c4c1d433-0cf5-4aaa-8f35-4d95b1920778', name='OCMPM order management space'),\n",
       "\tSpace(id='e0b0df67-5fa4-49aa-abef-7e0906687eaa', name='OCPM Space'),\n",
       "\tSpace(id='8cdd684c-d503-491d-82e0-ec71d3030a99', name='P2P OCPM'),\n",
       "\tSpace(id='6ca07a3c-d92f-4166-a0b0-e21e9bee54ec', name='PQL PU & DOMAIN TABLE 2')\n",
       "]"
      ]
     },
     "execution_count": 13,
     "metadata": {},
     "output_type": "execute_result"
    }
   ],
   "source": [
    "for space in celonis.studio.get_spaces():\n",
    "    celonis.studio.get_space(space.id).get_packages()\n"
   ]
  },
  {
   "cell_type": "code",
   "execution_count": 16,
   "metadata": {},
   "outputs": [
    {
     "data": {
      "text/plain": [
       "[]"
      ]
     },
     "execution_count": 16,
     "metadata": {},
     "output_type": "execute_result"
    }
   ],
   "source": [
    "celonis.studio.get_space('84043e98-aa74-44f8-9096-6863744571b2').get_packages()"
   ]
  },
  {
   "cell_type": "code",
   "execution_count": 10,
   "metadata": {},
   "outputs": [],
   "source": [
    "import pycelonis.pql as pql\n",
    "from pycelonis.pql.saola_connector import KnowledgeModelSaolaConnector"
   ]
  },
  {
   "cell_type": "code",
   "execution_count": null,
   "metadata": {},
   "outputs": [],
   "source": [
    "query = pql.PQL()\n",
    "\n",
    "query += pql.PQLColumn(name='ID', query='\"o_custom_Expense\".\"ID')\n",
    "\n",
    "df = pql.DataFrame.from_pql(query, saola_connector=KnowledgeModelSaolaConnector())"
   ]
  }
 ],
 "metadata": {
  "kernelspec": {
   "display_name": "venv",
   "language": "python",
   "name": "python3"
  },
  "language_info": {
   "codemirror_mode": {
    "name": "ipython",
    "version": 3
   },
   "file_extension": ".py",
   "mimetype": "text/x-python",
   "name": "python",
   "nbconvert_exporter": "python",
   "pygments_lexer": "ipython3",
   "version": "3.11.4"
  }
 },
 "nbformat": 4,
 "nbformat_minor": 2
}
